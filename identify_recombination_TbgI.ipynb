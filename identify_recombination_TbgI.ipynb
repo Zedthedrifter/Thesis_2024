{
 "cells": [
  {
   "cell_type": "code",
   "execution_count": 1,
   "id": "c027f1ee",
   "metadata": {},
   "outputs": [
    {
     "name": "stdout",
     "output_type": "stream",
     "text": [
      "Requirement already satisfied: biopython in /opt/conda/lib/python3.11/site-packages (1.84)\n",
      "Requirement already satisfied: numpy in /opt/conda/lib/python3.11/site-packages (from biopython) (1.26.4)\n",
      "Note: you may need to restart the kernel to use updated packages.\n"
     ]
    }
   ],
   "source": [
    "pip install biopython"
   ]
  },
  {
   "cell_type": "code",
   "execution_count": 2,
   "id": "3c97f280",
   "metadata": {},
   "outputs": [],
   "source": [
    "import matplotlib.pyplot as plt\n",
    "from matplotlib.patches import Rectangle\n",
    "from Bio import SeqIO\n",
    "from Bio.SeqRecord import SeqRecord\n",
    "from Bio.Seq import Seq\n",
    "from Bio import Align\n",
    "import pandas as pd\n",
    "import numpy as np\n",
    "pd.set_option('display.max_rows', None)\n",
    "pd.set_option('display.max_columns', None)\n",
    "from sklearn.preprocessing import MinMaxScaler\n",
    "import re\n",
    "import os\n",
    "import copy\n",
    "import pickle\n",
    "import gzip\n",
    "import math\n",
    "import networkx as nx\n",
    "import seaborn as sns\n",
    "import matplotlib.pyplot as plt\n",
    "from matplotlib import cm\n",
    "import pygraphviz\n",
    "import datetime\n",
    "import statistics\n",
    "from matplotlib_venn import venn3\n",
    "#stats\n",
    "from scipy.signal import find_peaks\n",
    "from itertools import combinations#\n",
    "from itertools import combinations_with_replacement\n",
    "from scipy.stats import linregress\n",
    "date = datetime.datetime.now().strftime(\"%Y-%m-%d\")\n",
    "from scipy.stats import ttest_ind\n",
    "from scipy.stats import chisquare\n",
    "from scipy.stats import binomtest\n",
    "from scipy.stats import ttest_rel\n",
    "#from colorspacious import cspace_converter"
   ]
  },
  {
   "cell_type": "code",
   "execution_count": 3,
   "id": "b9f512b4",
   "metadata": {},
   "outputs": [],
   "source": [
    "def pickle_load(file):\n",
    "    with gzip.open(file, 'rb') as f:\n",
    "        print(f'file {file} loaded')\n",
    "        out=pickle.load(f)\n",
    "    return out\n",
    "\n",
    "#character minicircles by gRNA family\n",
    "def assign_gRNA_fam_to_mini(gRNA_dict,gRNA_families): #use the new version\n",
    "    mini_dict,cassettes,non_cannonical={},['I','II','III','IV','V','Orphan'],[]\n",
    "    for g in gRNA_dict:\n",
    "        if  'Maxi' not in gRNA_dict[g]['mO_name']:\n",
    "            if gRNA_dict[g]['mO_name'] not in mini_dict:\n",
    "                mini_dict[gRNA_dict[g]['mO_name']]={c:set() for c in cassettes}\n",
    "                mini_dict[gRNA_dict[g]['mO_name']][gRNA_dict[g]['cassette_label']].add(g)\n",
    "            else:\n",
    "                mini_dict[gRNA_dict[g]['mO_name']][gRNA_dict[g]['cassette_label']].add(g)\n",
    "    mini_dict.pop('Maxicircle','None') #remove maxicircle      \n",
    "    mini_df = pd.DataFrame(columns=cassettes,index=mini_dict.keys())\n",
    "    for mini in mini_dict:\n",
    "        for c in mini_dict[mini]:\n",
    "            try:\n",
    "                mini_df.loc[[mini],[c]]=mini_dict[mini][c]['gRNA_family'][0]\n",
    "            except:\n",
    "                non_cannonical.append(f\"no cannonical gRNA found in cassette {c} in minicircle {mini}\")\n",
    "    mini_df=mini_df.sort_values(by=cassettes)\n",
    "    tmp={k:sum([1 for cs in v.values() if cs==set()]) for k,v in mini_dict.items()}\n",
    "    tmp={k: v for k, v in sorted(tmp.items(), key=lambda item: item[1])}\n",
    "    ordered=list(tmp.keys())\n",
    "    mini_dict={k:mini_dict[k] for k in ordered}\n",
    "    return(mini_dict,mini_df)\n",
    "#group minicircles by gRNA family\n",
    "def make_minicircle_family(mini_dict,gRNA_dict):\n",
    "    mini_families={}\n",
    "    for mini in mini_dict:\n",
    "        #put gRNA family to cassettes\n",
    "        hit=0\n",
    "        mini_casettes={c: set([i for g in v for i in gRNA_dict[g]['gRNA_family']]) for c,v in mini_dict[mini].items()}\n",
    "        if mini_families=={}:\n",
    "            count=1\n",
    "            mini_families[f\"mf{count}\"]={'cassettes': mini_casettes,'population':[mini]}\n",
    "        else:\n",
    "            for mf,records in mini_families.items():\n",
    "                test=[0 if set(i) == set(j) else 1 for i,j in zip(mini_casettes.values(),mini_families[mf]['cassettes'].values())]\n",
    "                if sum(test)==0:\n",
    "                    mini_families[mf]['population'].append(mini)\n",
    "                    hit+=1\n",
    "                    break\n",
    "            if hit==0: #if no matches were found\n",
    "                count+=1\n",
    "                mini_families[f\"mf{count}\"]={'cassettes': mini_casettes,'population':[mini]}\n",
    "    #print(mini_families.keys())\n",
    "    #sort by the number of encoded gRNAs\n",
    "    tmp={k:sum([1 for cs in v['cassettes'].values() if cs==set()]) for k,v in mini_families.items()}\n",
    "    tmp={k: v for k, v in sorted(tmp.items(), key=lambda item: item[1])}\n",
    "    ordered=list(tmp.keys())\n",
    "    mini_families={k:mini_families[k] for k in ordered}\n",
    "    print(len(mini_families))\n",
    "    return(mini_families)"
   ]
  },
  {
   "cell_type": "code",
   "execution_count": 4,
   "id": "520c5034",
   "metadata": {},
   "outputs": [],
   "source": [
    "def get_gRNA_info (txt,adjust=0): #build dictionary from gRNA_with_expression files\n",
    "    with open(txt) as handle:\n",
    "        keys=[x for x in next(handle).strip('\\n').split(' ') if x !='']\n",
    "        gRNA_dict={f'gRNA_{i}': {i:j for i,j in zip(keys,[x for x in line.strip('\\n').split(' ') if x !=''][1:])}for i,line in enumerate(handle)}\n",
    "        for key in gRNA_dict:\n",
    "            init_site=int(gRNA_dict[key]['mRNA_end'])+int(gRNA_dict[key]['rel_pos'])\n",
    "            if gRNA_dict[key]['mRNA_name'] not in ['CYB','MURF2']:\n",
    "                gRNA_dict[key]['gene_mRNA_end']=init_site+adjust\n",
    "            else:\n",
    "                gRNA_dict[key]['gene_mRNA_end']=init_site\n",
    "    return(gRNA_dict)  \n",
    "#get deletion and editing seuqences\n",
    "def read_editing_sites(small_u):\n",
    "    smallu=SeqIO.to_dict(SeqIO.parse(small_u,'fasta'))\n",
    "    edits={}\n",
    "    for k in smallu:\n",
    "        sites=[0 if b=='u' else 1 for b in smallu[k].seq] #0 for insertions\n",
    "        edits[k]=sites\n",
    "    return(edits)\n",
    "#initiation site counts\n",
    "def initiation_site_counts(gRNA_dict,small_u):\n",
    "    insertions=read_editing_sites(small_u)\n",
    "    mrna0={k:[0]*(len(insertions[k])+20) for k in insertions} #extend the mRNA a bit longer for the initiation sites\n",
    "    anchors={k:[0]*(len(insertions[k])+20) for k in insertions}\n",
    "    for k in gRNA_dict:\n",
    "        init_site=gRNA_dict[k]['gene_mRNA_end']\n",
    "        anc=int(gRNA_dict[k]['mRNA_start'])\n",
    "        mrna0[gRNA_dict[k]['mRNA_name']][init_site]+=1\n",
    "        anchors[gRNA_dict[k]['mRNA_name']][anc]+=1\n",
    "    return(mrna0,anchors)\n",
    "#visualize the boundaries\n",
    "def slide_window_plot(inits,anchors,ws=4,figw=100,figh=50):\n",
    "    counts={k:[sum(inits[k][i:i+ws]) for i in range(len(inits[k])-ws)] for k in inits} #find initiation sites with window\n",
    "    counts_a={k:[sum(anchors[k][i:i+ws]) for i in range(len(anchors[k])-ws)] for k in anchors} #find anchor starts with window\n",
    "    c=0\n",
    "    def plotting():\n",
    "        fig,axs = plt.subplots(len(counts),1,figsize=(figw,figh))\n",
    "        for k in counts:\n",
    "            ax=axs[c]\n",
    "            ax.set_title(f'Initiation sites/anchor starts on {k}, window size= {ws}',fontdict={'fontsize': 30, 'fontweight': 30})\n",
    "            c+=1\n",
    "            #plot init sites\n",
    "            ax.plot(range(len(counts[k])),counts[k],label=k)\n",
    "            #plot anchors\n",
    "            ax.plot(range(len(counts_a[k])),np.array(counts_a[k])*(-1),label=k)\n",
    "            #find boundaries\n",
    "            mrna=''.join([str(i) for i in counts[k]])\n",
    "            for match in re.finditer('0{5,}',mrna):\n",
    "                ax.add_patch(Rectangle((match.start(), 0), match.end()-match.start(), max(counts[k])+1,\n",
    "                                      facecolor = 'black',alpha=0.3))\n",
    "            #found boundaries with anchors\n",
    "            mrna=''.join([str(i) for i in counts_a[k]])\n",
    "            for match in re.finditer('0{3,}',mrna):\n",
    "                ax.add_patch(Rectangle((match.start(), 0), match.end()-match.start(), (max(counts[k])+1)*(-1),\n",
    "                                      facecolor = 'black',alpha=0.3))\n",
    "        plt.show()\n",
    "    #plotting\n",
    "    return(counts)\n",
    "#define gRNA family boundaries\n",
    "def gRNA_family_boundaries(counts):\n",
    "    gRNA_families={}\n",
    "    for k in counts:\n",
    "        #find boundaries\n",
    "        mrna=''.join([str(i) for i in counts[k]])\n",
    "        starts=[match.start() for match in re.finditer('0{5,}',mrna)] #change from 3 to 1\n",
    "        ends=[match.end() for match in re.finditer('0{5,}',mrna)]\n",
    "        boundaries=[(i,j) for i,j in zip(ends[:-1],starts[1:])]\n",
    "        gRNA_families[k]={f'{k}-{pair[0]}_{pair[1]}':{'bound':pair,'gRNA':[],'mRNA':k} for i,pair in enumerate(boundaries)}#\n",
    "        gRNA_families={m:{k: v for k, v in sorted(gRNA_families[m].items(), key=lambda item: item[1]['bound'][0])} for m in gRNA_families}\n",
    "        #print(gRNA_families)            \n",
    "    return(gRNA_families)\n",
    "#assign gRNA families\n",
    "def assign_gRNA_families(gRNA_dict,gRNA_families):\n",
    "    for k in gRNA_dict:\n",
    "        gRNA_dict[k]['gRNA_family']=[]\n",
    "        hit=0\n",
    "        for f in gRNA_families[gRNA_dict[k]['mRNA_name']]:\n",
    "            bound=gRNA_families[gRNA_dict[k]['mRNA_name']][f]['bound']\n",
    "            if int(gRNA_dict[k]['gene_mRNA_end']) >= bound[0] and int(gRNA_dict[k]['gene_mRNA_end']) <= bound[1]:\n",
    "                gRNA_dict[k]['gRNA_family'].append(f)\n",
    "                gRNA_families[gRNA_dict[k]['mRNA_name']][f]['gRNA'].append(k)\n",
    "                hit+=1\n",
    "                break\n",
    "        if hit==0:\n",
    "            print(f'error:cannot assign family for {k}')\n",
    "    return(gRNA_dict,gRNA_families)\n"
   ]
  },
  {
   "cell_type": "code",
   "execution_count": 5,
   "id": "c17c7433",
   "metadata": {},
   "outputs": [],
   "source": [
    "#detection of recombination: sharing at least one/two gRNA families and one different\n",
    "def identify_pairs_similar_mf(mini_families,shared=1,diff=1):\n",
    "    records,ts,total1=[],{},0\n",
    "    for i,pair in enumerate(combinations(mini_families.keys(),2)):\n",
    "        k1,k2=pair[0],pair[1]\n",
    "        total1+=1\n",
    "        #print(len(k1))\n",
    "        #0=empty cassette, 1=homologous cassette, 2=diffeent cassette\n",
    "        test=[0 if len(c1)==0 or len(c2)==0 else 1 if c1.issubset(c2) or c2.issubset(c1) else 2  # 0: empty/non-canonical, 1: shared, 2: distinct\n",
    "              for c1,c2 in zip(mini_families[k1]['cassettes'].values(),mini_families[k2]['cassettes'].values())]\n",
    "        ts[i]=test[:5]\n",
    "        if ts[i].count(1)>=shared and ts[i].count(2)>=diff:\n",
    "            records.append({k1:mini_families[k1],k2:mini_families[k2],'hits':ts[i]})\n",
    "            #print(mini_families[k1]['cassettes'].values(),'\\n',mini_families[k2]['cassettes'].values(),test)\n",
    "    total,allpairs,counts=0,list(ts.keys()),[]\n",
    "    for i in [0,1,2,3,4,5]:\n",
    "        for j in [0,1,2,3,4,5]:\n",
    "            a=[k for k,test in ts.items() if test.count(1)==i and test.count(2)==j]\n",
    "            print(i,j,len(a),round(len(a)/12561*100,2))\n",
    "            total+=len(a)\n",
    "            counts.append(len(a))\n",
    "    #print(total1,total)\n",
    "    return(records,counts)\n",
    "    \n",
    "def identiy_pairs_similar_mini(mfpairs,cassdict):\n",
    "    minipairs=[]\n",
    "    for record in mfpairs:\n",
    "        k1,k2=list(record.keys())[0],list(record.keys())[1]\n",
    "        mini1,mini2=record[k1]['population'],record[k2]['population']\n",
    "        for m1 in mini1:\n",
    "            cassettes1=[cassdict[f\"{m1}_{c}\"] \n",
    "                        for c,sets in record[k1]['cassettes'].items() if len(sets)!=0 and c!='Orphan']\n",
    "            for m2 in mini2:\n",
    "                cassettes2=[cassdict[f\"{m2}_{c}\"] \n",
    "                        for c,sets in record[k2]['cassettes'].items() if len(sets)!=0 and c!='Orphan']\n",
    "                cassid={}\n",
    "                for i,j in zip(cassettes1,cassettes2):\n",
    "                    seq1=i['seq']\n",
    "                    seq2=j['seq']\n",
    "                    aligner = Align.PairwiseAligner()\n",
    "                    seq1,seq2 = aligner.align(seq1,seq2)[0]\n",
    "                    seqid=round(sum([1 for i,j in zip(seq1,seq2) if i==j])/len(seq1)*100,2)\n",
    "                    cassid[i['cassette_label']]=seqid                  \n",
    "                minipairs.append({'m1':m1,'m2':m2,'cassettes_id':cassid,'mf1':k1,'mf2':k2,'hits':record['hits']})\n",
    "    return(minipairs)\n",
    "#filter pairs of minicircles\n",
    "def filter_pairs_similar_mini(minipairs,cut=69.88):\n",
    "    #part 1 visualize the sequence identity in shared vs distinct cassettes\n",
    "    def cutoff_stats():\n",
    "        cutoffs=[69.88,64.46,62.64,60.82,55.37]\n",
    "        for cutoff in cutoffs:\n",
    "            tmp=[1 for pair in minipairs \n",
    "                 if sum([1 if hit==1 and iden<cutoff else 0 for iden,hit in zip(pair['cassettes_id'].values(),pair['hits'])])==0]\n",
    "            print(cutoff,len(tmp))\n",
    "    #cutoff_stats()\n",
    "    def stats(filtered):\n",
    "        mf=set([pair['mf1'] for pair in filtered]+[pair['mf2'] for pair in filtered])\n",
    "        print('number of minicircle families',len(mf))\n",
    "        mf=set([pair['m1'] for pair in filtered]+[pair['m2'] for pair in filtered])\n",
    "        print('number of minicircles',len(mf))\n",
    "    ffiltered1=[pair for pair in minipairs \n",
    "             if sum([1 if hit==1 and iden < cut else 0 for iden,hit in zip(pair['cassettes_id'].values(),[i for i in pair['hits'] if i!=0])])==0] #0 if none of the shared  <=cut\n",
    "    stats(filtered1)\n",
    "    filtered2=[pair for pair in filtered1 \n",
    "             if sum([1 if hit==2 and iden >= cut else 0 for iden,hit in zip(pair['cassettes_id'].values(),[i for i in pair['hits'] if i!=0])])==0]#0 if none of the distinct >=cut\n",
    "    stats(filtered2)\n",
    "    print(filtered2)\n",
    "    if len(filtered2) !=0:\n",
    "        visual(filtered2)\n",
    "    else:\n",
    "        print('no satisfied pairs')\n",
    "    return (filtered2)\n",
    "def identiy_donor_mini(filtered2,mini_dict,mini_families,cassdict,cutoff=69.88):\n",
    "    candidate_donors,test={},[]\n",
    "    for record in filtered2:\n",
    "        c=[k for k,v in record['cassettes_id'].items() if v<cutoff][0]\n",
    "        m1,m2=record['m1'],record['m2']\n",
    "        seq1,seq2=cassdict[f'{m1}_{c}']['seq'],cassdict[f'{m2}_{c}']['seq']\n",
    "        mf1,mf2=record['mf1'],record['mf2']\n",
    "        gf1,gf2=set(mini_families[mf1]['cassettes'][c]),set(mini_families[mf2]['cassettes'][c])\n",
    "        donor1=[(v['population'],cas) for cas in ['I','II','III','IV','V'] for k,v in mini_families.items() if len(set(v['cassettes'][cas]).intersection(gf1))!=0]\n",
    "        donor2=[(v['population'],cas) for cas in ['I','II','III','IV','V'] for k,v in mini_families.items() if len(set(v['cassettes'][cas]).intersection(gf2))!=0]\n",
    "        def filter_donors(seq,order,cass,donors,cassdict):\n",
    "            tmp={'order':order}\n",
    "            for record in donors:\n",
    "                c=record[1]\n",
    "                for donor in record[0]:\n",
    "                    if f'{donor}_{c}' != cass:\n",
    "                        donor_seq=cassdict[f'{donor}_{c}']['seq']\n",
    "                        aligner = Align.PairwiseAligner()\n",
    "                        seq1,seq2 = aligner.align(seq,donor_seq)[0]\n",
    "                        seqid=round(sum([1 for i,j in zip(seq1,seq2) if i==j])/len(seq1)*100,2)\n",
    "                        tmp[f'{donor}_{c}']=seqid\n",
    "            return(tmp)\n",
    "        candidate_donors[f'{m1}_{c}']=filter_donors(seq1,1,f'{m1}_{c}',donor1,cassdict)\n",
    "        candidate_donors[f'{m2}_{c}']=filter_donors(seq2,2,f'{m2}_{c}',donor2,cassdict)\n",
    "        #test.append(filter_donors(seq1,1,f'{m1}_{c}',donor1,cassdict))\n",
    "        #test.append(filter_donors(seq2,2,f'{m2}_{c}',donor2,cassdict))\n",
    "        #print(gf2,donor1)\n",
    "    return(candidate_donors)\n",
    "\n",
    "def load_mini(fasta):\n",
    "    mini_dict=SeqIO.to_dict(SeqIO.parse(fasta,'fasta'))\n",
    "    #mini_dict={f\"{strain}_{k}\":v for k,v in mini_dict.items()}\n",
    "    return(mini_dict)\n",
    "def get_cassette_info (txt,strain_seq):\n",
    "    with open(txt) as handle:\n",
    "        keys=[x for x in next(handle).strip('\\n').split(' ') if x !='']\n",
    "        cassette_dict={f'cassette_{index}': {i:j for i,j in zip(keys,[x for x in line.strip('\\n').split(' ') if x !=''][1:])}\n",
    "                       for index,line in enumerate(handle)}\n",
    "        cassette_dict={f\"{v['mO_name']}_{v['cassette_label']}\":{k:int(value) \n",
    "                                                                if 'start' in k or 'end' in k else value for k,value in v.items()} \n",
    "                       for k,v in cassette_dict.items()}\n",
    "        for k,v in cassette_dict.items():\n",
    "            cassette_dict[k]['seq']=strain_seq[f\"{cassette_dict[k]['mO_name']}\"].seq[v['forward_start']:v['reverse_end']]\n",
    "    return(cassette_dict)\n"
   ]
  },
  {
   "cell_type": "code",
   "execution_count": 6,
   "id": "b001753d",
   "metadata": {},
   "outputs": [],
   "source": [
    "tbg1mini='/home/jovyan/Minicircle_gRNA_families/In_files/Tbg1_all_clean_minicircles.fasta'\n",
    "tbgseq=load_mini(tbg1mini)\n",
    "casstbg='/home/jovyan/Tcongo_PacBio/Infiles/Tbg1_cassettes.txt'\n",
    "cassdict=get_cassette_info (casstbg,tbgseq)"
   ]
  },
  {
   "cell_type": "code",
   "execution_count": 7,
   "id": "05914492",
   "metadata": {},
   "outputs": [],
   "source": [
    "small_u=f'/home/jovyan/Minicircle_gRNA_families/In_files/Tbg1_Mongo_edited_mRNA_small_u.fasta'\n",
    "tbg1grna='/home/jovyan/Minicircle_gRNA_families/In_files/Tbg1_gRNAs_2024-05-17.txt'\n",
    "gRNA_dict=get_gRNA_info (tbg1grna,adjust=0)\n",
    "inits,anchors,=initiation_site_counts(gRNA_dict,small_u)\n",
    "counts=slide_window_plot(inits,anchors,ws=1,figw=50,figh=100)\n",
    "gRNA_families=gRNA_family_boundaries(counts)\n",
    "gRNA_dict,gRNA_families=assign_gRNA_families(gRNA_dict,gRNA_families)"
   ]
  },
  {
   "cell_type": "code",
   "execution_count": 8,
   "id": "3c303680",
   "metadata": {},
   "outputs": [
    {
     "name": "stdout",
     "output_type": "stream",
     "text": [
      "159\n"
     ]
    }
   ],
   "source": [
    "strain='Tbg1_all'\n",
    "#pickles=f\"/home/jovyan/Minicircle_gRNA_families/Work_files/{strain}/{strain}.pickle\"\n",
    "#tmp=pickle_load(pickles)\n",
    "mini_dict,mini_df=assign_gRNA_fam_to_mini(gRNA_dict,gRNA_families)\n",
    "mini_families=make_minicircle_family(mini_dict,gRNA_dict)\n"
   ]
  },
  {
   "cell_type": "code",
   "execution_count": 15,
   "id": "4f5b5ab6-547c-489a-acf6-bab55731074e",
   "metadata": {},
   "outputs": [
    {
     "data": {
      "text/plain": [
       "{'I': {'gRNA_84', 'gRNA_85'},\n",
       " 'II': {'gRNA_86'},\n",
       " 'III': set(),\n",
       " 'IV': {'gRNA_87'},\n",
       " 'V': {'gRNA_89'},\n",
       " 'Orphan': {'gRNA_88'}}"
      ]
     },
     "execution_count": 15,
     "metadata": {},
     "output_type": "execute_result"
    }
   ],
   "source": [
    "mini_dict['mO_021']"
   ]
  },
  {
   "cell_type": "code",
   "execution_count": 9,
   "id": "89b9f143-f1a0-4cfd-862f-ce1fa3776cda",
   "metadata": {},
   "outputs": [],
   "source": [
    "def base_line_seq_id_cass_diff_gf(mini_dict,gRNA_dict,cassdict):\n",
    "    records=[]\n",
    "    cassettes=['I','II','III','IV','V']\n",
    "    canonical=[k for k,v in cassdict.items() if v['type']=='canonical' ]\n",
    "    for pair in combinations(canonical,2):\n",
    "        k1,k2=pair[0],pair[1]\n",
    "        m1,m2=cassdict[k1]['mO_name'],cassdict[k2]['mO_name']\n",
    "        c1,c2=cassdict[k1]['cassette_label'],cassdict[k2]['cassette_label']\n",
    "        g1,g2=mini_dict[f'{m1}'][c1],mini_dict[f'{m2}'][c2]\n",
    "        gf1,gf2={gf.split('-')[0] for g in g1 for gf in gRNA_dict[g]['gRNA_family']},{gf.split('-')[0] for g in g2 for gf in gRNA_dict[g]['gRNA_family']}\n",
    "        if len(gf1.intersection(gf2))==0:\n",
    "            s1=cassdict[k1]['seq']\n",
    "            s2=cassdict[k2]['seq']\n",
    "            aligner = Align.PairwiseAligner()\n",
    "            s1,s2 = aligner.align(s1,s2)[0]\n",
    "            seqid=round(sum([1 for i,j in zip(s1,s2) if i==j])/len(s1)*100,2)\n",
    "            records.append({'cassette1':k1,'cassette2':k2,'id':seqid} )\n",
    "    return(records)\n",
    "\n",
    "baseline=base_line_seq_id_cass_diff_gf(mini_dict,gRNA_dict,cassdict)"
   ]
  },
  {
   "cell_type": "code",
   "execution_count": 10,
   "id": "b8524d5f-5de0-4fdd-a1eb-8d82bad36749",
   "metadata": {},
   "outputs": [
    {
     "name": "stdout",
     "output_type": "stream",
     "text": [
      "      label  lower_whisker  lower_quartile  median  upper_quartile  \\\n",
      "0  baseline           57.3           62.07   63.64           65.29   \n",
      "\n",
      "   upper_whisker  \n",
      "0          70.12  \n"
     ]
    },
    {
     "data": {
      "image/png": "[encoded data removed]",
      "text/plain": [
       "<Figure size 600x600 with 1 Axes>"
      ]
     },
     "metadata": {},
     "output_type": "display_data"
    }
   ],
   "source": [
    "def get_box_plot_data(labels, bp):\n",
    "    rows_list = []\n",
    "\n",
    "    for i in range(len(labels)):\n",
    "        dict1 = {}\n",
    "        dict1['label'] = labels[i]\n",
    "        dict1['lower_whisker'] = bp['whiskers'][i*2].get_ydata()[1]\n",
    "        dict1['lower_quartile'] = bp['boxes'][i].get_ydata()[1]\n",
    "        dict1['median'] = bp['medians'][i].get_ydata()[1]\n",
    "        dict1['upper_quartile'] = bp['boxes'][i].get_ydata()[2]\n",
    "        dict1['upper_whisker'] = bp['whiskers'][(i*2)+1].get_ydata()[1]\n",
    "        rows_list.append(dict1)\n",
    "\n",
    "    return pd.DataFrame(rows_list)\n",
    "\n",
    "def get_bsl_levels(bsl):\n",
    "    fig, ax = plt.subplots(nrows=1, ncols=1, figsize=(6,6), sharey=False)\n",
    "    boxprops = dict(linestyle='-', linewidth=4, color='b')\n",
    "    medianprops = dict(linestyle='-', linewidth=4, color='r')\n",
    "    labels=['baseline']\n",
    "    bp=ax.boxplot([bsl],labels=labels,vert=True,boxprops=boxprops,medianprops=medianprops)\n",
    "    print(get_box_plot_data(labels, bp))\n",
    "\n",
    "bsl=[d['id'] for d in baseline[:]]\n",
    "get_bsl_levels(bsl)"
   ]
  },
  {
   "cell_type": "code",
   "execution_count": 11,
   "id": "7583521d",
   "metadata": {},
   "outputs": [
    {
     "name": "stdout",
     "output_type": "stream",
     "text": [
      "0 0 1225 9.75\n",
      "0 1 3741 29.78\n",
      "0 2 4622 36.8\n",
      "0 3 2641 21.03\n",
      "0 4 148 1.18\n",
      "0 5 0 0.0\n",
      "1 0 35 0.28\n",
      "1 1 60 0.48\n",
      "1 2 58 0.46\n",
      "1 3 4 0.03\n",
      "1 4 0 0.0\n",
      "1 5 0 0.0\n",
      "2 0 11 0.09\n",
      "2 1 9 0.07\n",
      "2 2 1 0.01\n",
      "2 3 0 0.0\n",
      "2 4 0 0.0\n",
      "2 5 0 0.0\n",
      "3 0 6 0.05\n",
      "3 1 0 0.0\n",
      "3 2 0 0.0\n",
      "3 3 0 0.0\n",
      "3 4 0 0.0\n",
      "3 5 0 0.0\n",
      "4 0 0 0.0\n",
      "4 1 0 0.0\n",
      "4 2 0 0.0\n",
      "4 3 0 0.0\n",
      "4 4 0 0.0\n",
      "4 5 0 0.0\n",
      "5 0 0 0.0\n",
      "5 1 0 0.0\n",
      "5 2 0 0.0\n",
      "5 3 0 0.0\n",
      "5 4 0 0.0\n",
      "5 5 0 0.0\n"
     ]
    }
   ],
   "source": [
    "#find pairs of minicircle families\n",
    "mfpairs,counts=identify_pairs_similar_mf(mini_families,shared=2,diff=1)"
   ]
  },
  {
   "cell_type": "code",
   "execution_count": 12,
   "id": "d0c03da7",
   "metadata": {},
   "outputs": [
    {
     "name": "stdout",
     "output_type": "stream",
     "text": [
      "12\n"
     ]
    }
   ],
   "source": [
    "#find pairs of minicircles\n",
    "minipairs=identiy_pairs_similar_mini(mfpairs,cassdict)\n",
    "print(len(minipairs))"
   ]
  },
  {
   "cell_type": "code",
   "execution_count": 13,
   "id": "487db911-6300-4e67-a617-bf9850850222",
   "metadata": {},
   "outputs": [
    {
     "name": "stdout",
     "output_type": "stream",
     "text": [
      "71.87 65.89 0.27668182185336687\n"
     ]
    },
    {
     "data": {
      "image/png": "[encoded data removed]",
      "text/plain": [
       "<Figure size 600x600 with 1 Axes>"
      ]
     },
     "metadata": {},
     "output_type": "display_data"
    }
   ],
   "source": [
    "def visual_minipairs(minipairs):\n",
    "    shared=[iden for pair in minipairs for iden,hit in zip(pair['cassettes_id'].values(),pair['hits']) if hit==1]\n",
    "    diff=[iden for pair in minipairs for iden,hit in zip(pair['cassettes_id'].values(),pair['hits']) if hit==2]\n",
    "    a=ttest_ind(shared, diff)\n",
    "    print(round(sum(shared)/len(shared),2),round(sum(diff)/len(diff),2),a.pvalue)\n",
    "    data=[shared,diff]\n",
    "    fig, ax = plt.subplots(nrows=1, ncols=1, figsize=(6,6), sharey=False)\n",
    "    boxprops = dict(linestyle='-', linewidth=4, color='b')\n",
    "    medianprops = dict(linestyle='-', linewidth=4, color='r')\n",
    "    labels=['same gRNA family','distinct gRNA family']\n",
    "    bp=ax.boxplot(data,labels=labels,vert=True,boxprops=boxprops,medianprops=medianprops)\n",
    "    ax.set_ylabel('SID (%)')\n",
    "visual_minipairs(minipairs)"
   ]
  },
  {
   "cell_type": "code",
   "execution_count": 16,
   "id": "b89af869-ce4f-43d8-b3a0-f1c19c517af8",
   "metadata": {},
   "outputs": [
    {
     "name": "stdout",
     "output_type": "stream",
     "text": [
      "number of minicircle families 2\n",
      "number of minicircles 3\n",
      "number of minicircle families 0\n",
      "number of minicircles 0\n",
      "[]\n"
     ]
    }
   ],
   "source": [
    "cut=70.12\n",
    "def stats(filtered):\n",
    "    mf=set([pair['mf1'] for pair in filtered]+[pair['mf2'] for pair in filtered])\n",
    "    print('number of minicircle families',len(mf))\n",
    "    mf=set([pair['m1'] for pair in filtered]+[pair['m2'] for pair in filtered])\n",
    "    print('number of minicircles',len(mf))\n",
    "filtered1=[pair for pair in minipairs \n",
    "             if sum([1 if hit==1 and iden < cut else 0 for iden,hit in zip(pair['cassettes_id'].values(),[i for i in pair['hits'] if i!=0])])==0] #0 if none of the shared  <=cut\n",
    "stats(filtered1)\n",
    "filtered2=[pair for pair in filtered1 \n",
    "         if sum([1 if hit==2 and iden >= cut else 0 for iden,hit in zip(pair['cassettes_id'].values(),[i for i in pair['hits'] if i!=0])])==0]#0 if none of the distinct >=cut\n",
    "stats(filtered2)\n",
    "print(filtered2)"
   ]
  },
  {
   "cell_type": "code",
   "execution_count": 61,
   "id": "baeabd9c",
   "metadata": {},
   "outputs": [
    {
     "name": "stdout",
     "output_type": "stream",
     "text": [
      "71.87 65.89 0.27668182185336687\n",
      "number of minicircle families 2\n",
      "number of minicircles 3\n",
      "number of minicircle families 0\n",
      "number of minicircles 0\n",
      "[]\n",
      "no satisfied pairs\n"
     ]
    },
    {
     "data": {
      "image/png": "[encoded data removed]",
      "text/plain": [
       "<Figure size 600x600 with 1 Axes>"
      ]
     },
     "metadata": {},
     "output_type": "display_data"
    }
   ],
   "source": [
    "#analysis of minipairs\n",
    "filtered2=filter_pairs_similar_mini(minipairs,cut=70.12)\n",
    "#filtered2\n",
    "#filtered2=filtered2[:-2]"
   ]
  },
  {
   "cell_type": "code",
   "execution_count": 32,
   "id": "cd936bc1-7482-4b65-ac75-fee48e573fe9",
   "metadata": {},
   "outputs": [
    {
     "data": {
      "text/plain": [
       "[{'m1': 'mO_072',\n",
       "  'm2': 'mO_073',\n",
       "  'cassettes_id': {'I': 65.88, 'II': 62.36, 'IV': 59.12},\n",
       "  'mf1': 'mf11',\n",
       "  'mf2': 'mf55',\n",
       "  'hits': [2, 0, 0, 1, 1]},\n",
       " {'m1': 'mO_144',\n",
       "  'm2': 'mO_190',\n",
       "  'cassettes_id': {'I': 100.0, 'IV': 98.6, 'V': 78.67},\n",
       "  'mf1': 'mf87',\n",
       "  'mf2': 'mf97',\n",
       "  'hits': [1, 0, 0, 1, 2]},\n",
       " {'m1': 'mO_144',\n",
       "  'm2': 'mO_194',\n",
       "  'cassettes_id': {'I': 100.0, 'IV': 98.6, 'V': 78.67},\n",
       "  'mf1': 'mf87',\n",
       "  'mf2': 'mf97',\n",
       "  'hits': [1, 0, 0, 1, 2]}]"
      ]
     },
     "execution_count": 32,
     "metadata": {},
     "output_type": "execute_result"
    }
   ],
   "source": [
    "filtered2"
   ]
  },
  {
   "cell_type": "code",
   "execution_count": 41,
   "id": "2244243a",
   "metadata": {},
   "outputs": [
    {
     "name": "stdout",
     "output_type": "stream",
     "text": [
      "{'cassettes': {'I': {'A6_v2-290_291', 'A6_v1-290_291'}, 'II': set(), 'III': set(), 'IV': {'ND7-402_406'}, 'V': {'ND7-923_924'}, 'Orphan': set()}, 'population': ['mO_144']} {'cassettes': {'I': {'A6_v2-290_291', 'A6_v1-290_291'}, 'II': set(), 'III': set(), 'IV': {'ND7-402_406'}, 'V': {'ND7-890_893'}, 'Orphan': set()}, 'population': ['mO_190', 'mO_194']}\n"
     ]
    },
    {
     "data": {
      "text/plain": [
       "[{'m1': 'mO_144',\n",
       "  'm2': 'mO_190',\n",
       "  'cassettes_id': {'I': 100.0, 'IV': 98.6, 'V': 78.67},\n",
       "  'mf1': 'mf87',\n",
       "  'mf2': 'mf97',\n",
       "  'hits': [1, 0, 0, 1, 2]},\n",
       " {'m1': 'mO_144',\n",
       "  'm2': 'mO_194',\n",
       "  'cassettes_id': {'I': 100.0, 'IV': 98.6, 'V': 78.67},\n",
       "  'mf1': 'mf87',\n",
       "  'mf2': 'mf97',\n",
       "  'hits': [1, 0, 0, 1, 2]}]"
      ]
     },
     "execution_count": 41,
     "metadata": {},
     "output_type": "execute_result"
    }
   ],
   "source": [
    "print(mini_families['mf87'],mini_families['mf97'])\n"
   ]
  },
  {
   "cell_type": "code",
   "execution_count": 1,
   "id": "bdfaee47",
   "metadata": {},
   "outputs": [],
   "source": [
    "#cassdict"
   ]
  },
  {
   "cell_type": "code",
   "execution_count": 49,
   "id": "6108dcc7",
   "metadata": {},
   "outputs": [],
   "source": [
    "def identiy_donor_cass(filtered2,mini_dict,mini_families,cassdict,cutoff=69.88):\n",
    "    candidate_donors,test={},[]\n",
    "    for record in filtered2:\n",
    "        c=[k for k,v in record['cassettes_id'].items() if v<cutoff][0]\n",
    "        print(c)\n",
    "        m1,m2=record['m1'],record['m2']\n",
    "        seq1,seq2=cassdict[f'{m1}_{c}']['seq'],cassdict[f'{m2}_{c}']['seq']\n",
    "        mf1,mf2=record['mf1'],record['mf2']\n",
    "        gf1,gf2=set(mini_families[mf1]['cassettes'][c]),set(mini_families[mf2]['cassettes'][c])\n",
    "        donor1=[(v['population'],cas) for cas in ['I','II','III','IV','V'] for k,v in mini_families.items() if len(set(v['cassettes'][cas]).intersection(gf1))!=0]\n",
    "        donor2=[(v['population'],cas) for cas in ['I','II','III','IV','V'] for k,v in mini_families.items() if len(set(v['cassettes'][cas]).intersection(gf2))!=0]\n",
    "        def filter_donors(seq,order,cass,donors,cassdict):\n",
    "            tmp={'order':order}\n",
    "            for record in donors:\n",
    "                c=record[1]\n",
    "                for donor in record[0]:\n",
    "                    if f'{donor}_{c}' != cass:\n",
    "                        donor_seq=cassdict[f'{donor}_{c}']['seq']\n",
    "                        aligner = Align.PairwiseAligner()\n",
    "                        seq1,seq2 = aligner.align(seq,donor_seq)[0]\n",
    "                        seqid=round(sum([1 for i,j in zip(seq1,seq2) if i==j])/len(seq1)*100,2)\n",
    "                        tmp[f'{donor}_{c}']=seqid\n",
    "            return(tmp)\n",
    "        candidate_donors[f'{m1}_{c}']=filter_donors(seq1,1,f'{m1}_{c}',donor1,cassdict)\n",
    "        candidate_donors[f'{m2}_{c}']=filter_donors(seq2,2,f'{m2}_{c}',donor2,cassdict)\n",
    "        #test.append(filter_donors(seq1,1,f'{m1}_{c}',donor1,cassdict))\n",
    "        #test.append(filter_donors(seq2,2,f'{m2}_{c}',donor2,cassdict))\n",
    "        #print(gf2,donor1)\n",
    "    return(candidate_donors)"
   ]
  },
  {
   "cell_type": "code",
   "execution_count": 50,
   "id": "ec7a433f",
   "metadata": {},
   "outputs": [
    {
     "name": "stdout",
     "output_type": "stream",
     "text": [
      "V\n",
      "V\n"
     ]
    }
   ],
   "source": [
    "candidate_donors=identiy_donor_cass(minipairs[-2:],mini_dict,mini_families,cassdict,cutoff=80)"
   ]
  },
  {
   "cell_type": "code",
   "execution_count": 52,
   "id": "8bcbd93b",
   "metadata": {},
   "outputs": [
    {
     "data": {
      "text/plain": [
       "{'mO_144_V': {'order': 1, 'mO_067_V': 67.24},\n",
       " 'mO_190_V': {'order': 2, 'mO_020_IV': 63.35, 'mO_194_V': 100.0},\n",
       " 'mO_194_V': {'order': 2, 'mO_020_IV': 63.35, 'mO_190_V': 100.0}}"
      ]
     },
     "execution_count": 52,
     "metadata": {},
     "output_type": "execute_result"
    }
   ],
   "source": [
    "candidate_donors"
   ]
  },
  {
   "cell_type": "code",
   "execution_count": 51,
   "id": "d8fe644c",
   "metadata": {},
   "outputs": [
    {
     "name": "stdout",
     "output_type": "stream",
     "text": [
      "3\n",
      "cass with candidate donors 2\n",
      "cass with multiple donors 0\n",
      "100.0 100.0 100.0\n"
     ]
    }
   ],
   "source": [
    "print(len(candidate_donors))\n",
    "cutoff=69.88\n",
    "hqdonors={k:{d:iden for d,iden in v.items() if iden >=cutoff} for k,v in candidate_donors.items() }\n",
    "hqdonors={k:v for k,v in hqdonors.items() if len(v)!=0}\n",
    "print('cass with candidate donors',len(hqdonors))\n",
    "multidonors=[k for k,v in hqdonors.items() if len(v)>1]\n",
    "print('cass with multiple donors',len(multidonors))\n",
    "topdonors={k:{d:iden for d,iden in v.items() if iden == max(list(v.values()))} for k,v in hqdonors.items()}\n",
    "topdonorid=[iden for v in topdonors.values() for iden in v.values()]\n",
    "print(max(topdonorid),min(topdonorid),sum(topdonorid)/len(topdonorid))\n",
    "highlysimilardonor={k:{d:iden for d,iden in v.items() if iden >95} for k,v in hqdonors.items()}"
   ]
  }
 ],
 "metadata": {
  "kernelspec": {
   "display_name": "Python 3 (ipykernel)",
   "language": "python",
   "name": "python3"
  },
  "language_info": {
   "codemirror_mode": {
    "name": "ipython",
    "version": 3
   },
   "file_extension": ".py",
   "mimetype": "text/x-python",
   "name": "python",
   "nbconvert_exporter": "python",
   "pygments_lexer": "ipython3",
   "version": "3.11.8"
  }
 },
 "nbformat": 4,
 "nbformat_minor": 5
}
